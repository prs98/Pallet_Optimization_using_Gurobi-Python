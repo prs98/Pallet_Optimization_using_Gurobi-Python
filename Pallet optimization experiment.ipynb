{
 "cells": [
  {
   "cell_type": "code",
   "execution_count": 1,
   "id": "e85d4369",
   "metadata": {},
   "outputs": [],
   "source": [
    "# Please enter in inches unit\n",
    "\n",
    "pallet_l = 48\n",
    "pallet_b = 40\n",
    "pallet_h = 60\n",
    "\n",
    "box_l = 22.7\n",
    "box_b = 14.9\n",
    "box_h = 14.3"
   ]
  },
  {
   "cell_type": "code",
   "execution_count": 2,
   "id": "2799dab5",
   "metadata": {},
   "outputs": [],
   "source": [
    "from gurobipy import *"
   ]
  },
  {
   "cell_type": "markdown",
   "id": "ba661657",
   "metadata": {},
   "source": [
    "**Sets**<br>\n",
    "$\\begin{aligned}\n",
    "& \\mathcal{I} = 1, 2,\\dots,\\lfloor pallet_l/Box_b \\rfloor\\\\\n",
    "& \\mathcal{J} = 1, 2,\\dots,\\left\\lfloor \\frac{pallet_b}{Box_b} \\right\\rfloor\\\\\n",
    "\\end{aligned}$\n",
    "\n",
    "\n",
    "**Parameters**<br>\n",
    "$ Box_l $: Length of the Box<br>\n",
    "$ Box_b $: Width of the Box<br>\n",
    "$ pallet_l $: Length of the Pallet<br>\n",
    "$ pallet_b $: Breadth of the Pallet<br>\n",
    "\n",
    "**Variables**<br>\n",
    "$ yl_{i,j} $: Is 1 if length of the box aligns along length of the pallet in slot i,j <br>\n",
    "$ yb_{i,j} $: Is 1 if breadth of the box aligns along length of the pallet in slot i,j"
   ]
  },
  {
   "cell_type": "markdown",
   "id": "829352ad",
   "metadata": {},
   "source": [
    "$$ \\begin{aligned}\n",
    "\\max_{yl, yb} \\quad & \\sum_{i \\in I, \\; j \\in J}yl_{i,j} + \\sum_{i \\in I}\\sum_{j \\in J}yb_{i,j}\\\\\n",
    "\\forall \\; j \\in J \\quad & Box_l\\sum_{i} yl_{i,j} + Box_b\\sum_{i} yb_{i,j} \\leq pallet_l\\\\\n",
    "\\forall \\; i \\in I \\quad & Box_l\\sum_{j} yb_{i,j} + Box_b\\sum_{j} yl_{i,j} \\leq pallet_b\\\\\n",
    "\\forall \\; j \\in J\\;\\forall \\; i \\in I \\quad & yl_{i,j} + yb_{i,j} \\leq 1\n",
    "\\end{aligned} $$"
   ]
  },
  {
   "cell_type": "code",
   "execution_count": 3,
   "id": "82c1505c",
   "metadata": {},
   "outputs": [
    {
     "name": "stdout",
     "output_type": "stream",
     "text": [
      "Set parameter Username\n",
      "Academic license - for non-commercial use only - expires 2022-06-27\n",
      "i =  1 j =  1 solution =  1.0\n",
      "i =  1 j =  2 solution =  -0.0\n",
      "i =  2 j =  1 solution =  -0.0\n",
      "i =  2 j =  2 solution =  -0.0\n",
      "i =  3 j =  1 solution =  1.0\n",
      "i =  3 j =  2 solution =  -0.0\n",
      "======================================================================\n",
      "i =  1 j =  1 solution =  0.0\n",
      "i =  1 j =  2 solution =  1.0\n",
      "i =  2 j =  1 solution =  0.0\n",
      "i =  2 j =  2 solution =  1.0\n",
      "i =  3 j =  1 solution =  0.0\n",
      "i =  3 j =  2 solution =  1.0\n",
      "======================================================================\n",
      "['L', '0', 'L']\n",
      "['B', 'B', 'B']\n",
      "5.0\n",
      "4\n"
     ]
    }
   ],
   "source": [
    "set_I = [i for i in range(1, int(pallet_l / box_b) + 1)]\n",
    "set_J = [j for j in range(1, int(pallet_b / box_b) + 1)]\n",
    "\n",
    "m = Model()\n",
    "y_l = m.addVars(set_I, set_J, name=\"y_l\", vtype=GRB.BINARY)\n",
    "y_b = m.addVars(set_I, set_J, name=\"y_b\", vtype=GRB.BINARY)\n",
    "\n",
    "#m.setObjective(pallet_l * pallet_b - (y_l.sum() + y_b.sum()) * (box_l * box_b), GRB.MINIMIZE) # Minimized unused area\n",
    "m.setObjective(y_l.sum() + y_b.sum(), GRB.MAXIMIZE) # Maximized number of boxes\n",
    "\n",
    "con_l = m.addConstrs((box_l * y_l.sum('*', j) + box_b * y_b.sum('*', j) <= pallet_l for j in set_J), \"Con_l\")\n",
    "con_b = m.addConstrs((box_b * y_l.sum(i, '*') + box_l * y_b.sum(i, '*') <= pallet_b for i in set_I), \"Con_b\")\n",
    "con_unique = m.addConstrs((y_l[i, j] + y_b[i, j] <= 1 for i in set_I for j in set_J), \"Con_unique\")\n",
    "\n",
    "m.Params.LogToConsole = 0\n",
    "m.optimize()\n",
    "\n",
    "for i in set_I:\n",
    "    for j in set_J:\n",
    "        print('i = ', i, 'j = ', j, 'solution = ', y_l[i, j].x)\n",
    "        \n",
    "print(\"=\" * 70)\n",
    "\n",
    "for i in set_I:\n",
    "    for j in set_J:\n",
    "        print('i = ', i, 'j = ', j, 'solution = ', y_b[i, j].x)\n",
    "        \n",
    "print(\"=\" * 70)\n",
    "\n",
    "for j in set_J:\n",
    "    sol = []\n",
    "    \n",
    "    for i in set_I:\n",
    "        if y_l[i, j].x == 1:\n",
    "            sol.append(\"L\")\n",
    "        elif y_b[i, j].x == 1:\n",
    "            sol.append(\"B\")\n",
    "        else:\n",
    "            sol.append(\"0\")\n",
    "            \n",
    "    print(sol)\n",
    "    \n",
    "print(sum(y_l[i, j].x + y_b[i, j].x for i in set_I for j in set_J))\n",
    "print(int(pallet_h/box_h))"
   ]
  },
  {
   "cell_type": "code",
   "execution_count": null,
   "id": "80c7b1c3",
   "metadata": {},
   "outputs": [],
   "source": []
  },
  {
   "cell_type": "code",
   "execution_count": null,
   "id": "d9e57e5a",
   "metadata": {},
   "outputs": [],
   "source": []
  }
 ],
 "metadata": {
  "kernelspec": {
   "display_name": "Python 3 (ipykernel)",
   "language": "python",
   "name": "python3"
  },
  "language_info": {
   "codemirror_mode": {
    "name": "ipython",
    "version": 3
   },
   "file_extension": ".py",
   "mimetype": "text/x-python",
   "name": "python",
   "nbconvert_exporter": "python",
   "pygments_lexer": "ipython3",
   "version": "3.9.7"
  }
 },
 "nbformat": 4,
 "nbformat_minor": 5
}
